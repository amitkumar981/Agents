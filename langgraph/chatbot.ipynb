{
 "cells": [
  {
   "cell_type": "code",
   "execution_count": 1,
   "id": "83ec3524",
   "metadata": {},
   "outputs": [],
   "source": [
    "from typing import Annotated,TypedDict\n",
    "from langgraph.graph import StateGraph,START,END\n",
    "from langgraph.graph.message import add_messages\n",
    "from langgraph.prebuilt import ToolNode,tools_condition\n",
    "from dotenv import load_dotenv\n",
    "import requests\n",
    "import gradio as gr\n",
    "from langchain.agents import Tool\n",
    "from langchain_openai import ChatOpenAI\n",
    "import sqlite3\n",
    "from langgraph.checkpoint.sqlite import SqliteSaver\n",
    "from langchain_community.utilities import GoogleSerperAPIWrapper\n",
    "import os"
   ]
  },
  {
   "cell_type": "code",
   "execution_count": 2,
   "id": "e85ff0f5",
   "metadata": {},
   "outputs": [
    {
     "data": {
      "text/plain": [
       "True"
      ]
     },
     "execution_count": 2,
     "metadata": {},
     "output_type": "execute_result"
    }
   ],
   "source": [
    "#load crediential\n",
    "load_dotenv(override=True)"
   ]
  },
  {
   "cell_type": "code",
   "execution_count": 3,
   "id": "5d3b89b6",
   "metadata": {},
   "outputs": [],
   "source": [
    "class State(TypedDict):\n",
    "    messages:Annotated[list,add_messages]\n",
    "    "
   ]
  },
  {
   "cell_type": "code",
   "execution_count": 4,
   "id": "6ddc6ac7",
   "metadata": {},
   "outputs": [],
   "source": [
    "pushover_token = os.getenv(\"PUSHOVER_TOKEN\")\n",
    "pushover_user = os.getenv(\"PUSHOVER_USER\")\n",
    "pushover_url = \"https://api.pushover.net/1/messages.json\"\n",
    "\n",
    "def push(text:str):\n",
    "    \"send the notification to the user\"\n",
    "    requests.post(pushover_url,data={\"token\":pushover_token,\"user\":pushover_user,\"message\":text})\n",
    "\n",
    "tool_push=Tool(\n",
    "    name=\"send_totifaction_push\",\n",
    "    func=push,\n",
    "    description=\"useful when you want the send a push notification\"\n",
    ")"
   ]
  },
  {
   "cell_type": "code",
   "execution_count": 5,
   "id": "4bf989f1",
   "metadata": {},
   "outputs": [
    {
     "data": {
      "text/plain": [
       "\"New Delhi is the capital of India and a part of the National Capital Territory of Delhi (NCT). New Delhi is the seat of all three branches of the Government ... Delhi, officially the National Capital Territory (NCT) of Delhi, is a city and a union territory of India containing New Delhi, the capital of India. New Delhi, national capital of India. It is situated in the north-central part of the country on the west bank of the Yamuna River. India's capital and most populous city is Delhi, home to 31 million residents. From its origins as 'Indraprastha' in the Mahabharata to becoming the capital in 1911, Delhi blends ancient charm and modern governance. In 1911, Delhi became the centre of all activities after the capital was shifted from Kolkata. It was made a Union Territory in 1956. Lying in the northern ... Delhi is a city and national capital territory in north-central India. The city of Delhi actually consists of two components: Old Delhi, in the north, ... Yes, the capital of India is New Delhi. It serves as the center of the Indian government and is part of the larger National Capital Territory (NCT) of Delhi. noun the capital of India is a division of the old city of Delhi synonyms: Indian capital, New Delhi What is the capital of India? A. Delhi. B. Mumbai. C. Calcutta. D. Agra. लिखित उत्तर. Verified by Experts. The correct Answer is:A. Delhi is the capital of ...\""
      ]
     },
     "execution_count": 5,
     "metadata": {},
     "output_type": "execute_result"
    }
   ],
   "source": [
    "serper=GoogleSerperAPIWrapper()\n",
    "serper.run(\"what is capital od india\")"
   ]
  },
  {
   "cell_type": "code",
   "execution_count": 6,
   "id": "cb4f2ddd",
   "metadata": {},
   "outputs": [],
   "source": [
    "\n",
    "import nest_asyncio\n",
    "nest_asyncio.apply()"
   ]
  },
  {
   "cell_type": "code",
   "execution_count": 7,
   "id": "0d638e72",
   "metadata": {},
   "outputs": [],
   "source": [
    "from langchain_community.agent_toolkits import PlayWrightBrowserToolkit\n",
    "from langchain_community.tools.playwright.utils import create_async_playwright_browser\n",
    "\n",
    "# If you get a NotImplementedError here or later, see the Heads Up at the top of the notebook\n",
    "\n",
    "async_browser =  create_async_playwright_browser(headless=False)  # headful mode\n",
    "toolkit = PlayWrightBrowserToolkit.from_browser(async_browser=async_browser)\n",
    "tools = toolkit.get_tools()"
   ]
  },
  {
   "cell_type": "code",
   "execution_count": 8,
   "id": "bfbbd51c",
   "metadata": {},
   "outputs": [
    {
     "name": "stdout",
     "output_type": "stream",
     "text": [
      "click_element=async_browser=<Browser type=<BrowserType name=chromium executable_path=C:\\Users\\redhu\\AppData\\Local\\ms-playwright\\chromium-1169\\chrome-win\\chrome.exe> version=136.0.7103.25>\n",
      "navigate_browser=async_browser=<Browser type=<BrowserType name=chromium executable_path=C:\\Users\\redhu\\AppData\\Local\\ms-playwright\\chromium-1169\\chrome-win\\chrome.exe> version=136.0.7103.25>\n",
      "previous_webpage=async_browser=<Browser type=<BrowserType name=chromium executable_path=C:\\Users\\redhu\\AppData\\Local\\ms-playwright\\chromium-1169\\chrome-win\\chrome.exe> version=136.0.7103.25>\n",
      "extract_text=async_browser=<Browser type=<BrowserType name=chromium executable_path=C:\\Users\\redhu\\AppData\\Local\\ms-playwright\\chromium-1169\\chrome-win\\chrome.exe> version=136.0.7103.25>\n",
      "extract_hyperlinks=async_browser=<Browser type=<BrowserType name=chromium executable_path=C:\\Users\\redhu\\AppData\\Local\\ms-playwright\\chromium-1169\\chrome-win\\chrome.exe> version=136.0.7103.25>\n",
      "get_elements=async_browser=<Browser type=<BrowserType name=chromium executable_path=C:\\Users\\redhu\\AppData\\Local\\ms-playwright\\chromium-1169\\chrome-win\\chrome.exe> version=136.0.7103.25>\n",
      "current_webpage=async_browser=<Browser type=<BrowserType name=chromium executable_path=C:\\Users\\redhu\\AppData\\Local\\ms-playwright\\chromium-1169\\chrome-win\\chrome.exe> version=136.0.7103.25>\n"
     ]
    }
   ],
   "source": [
    "for tool in tools:\n",
    "    print(f\"{tool.name}={tool}\")"
   ]
  },
  {
   "cell_type": "code",
   "execution_count": 11,
   "id": "a20ae281",
   "metadata": {},
   "outputs": [],
   "source": [
    "tool_dict = {tool.name:tool for tool in tools}\n",
    "\n",
    "navigate_tool = tool_dict.get(\"navigate_browser\")\n",
    "extract_text_tool = tool_dict.get(\"extract_text\")\n",
    "\n",
    "    \n",
    "await navigate_tool.arun({\"url\": \"https://www.aajtak.in/\"})\n",
    "text = await extract_text_tool.arun({})"
   ]
  },
  {
   "cell_type": "code",
   "execution_count": 12,
   "id": "a0f7520a",
   "metadata": {},
   "outputs": [
    {
     "name": "stdout",
     "output_type": "stream",
     "text": [
      "Hindi news, हिंदी न्यूज़ , Hindi Samachar, हिंदी समाचार, Latest News in\n",
      "Hindi, Breaking News in Hindi, ताजा ख़बरें, Aaj Tak News Aaj Tak বাংলা\n",
      "GNTTV India Today Malayalam Business Today Lallantop इंडिया टुडे हिंदी\n",
      "NewsTak UPTak Sports Tak KisanTak MumbaiTak BT Bazaar Cosmopolitan\n",
      "Harper's Bazaar Northeast Brides Today Reader’s Digest Astro Tak\n",
      "Gaming Sign In Hindi News Sign In Edition IN US होम भारत दिल्ली उत्तर\n",
      "प्रदेश मध्य प्रदेश राजस्थान बिहार पंजाब हरियाणा पश्चिम बंगाल ओडिशा\n",
      "हिमाचल प्रदेश महाराष्ट्र झारखंड उत्तराखंड छत्तीसगढ़ गुजरात जम्मू\n",
      "कश्मीर तेलंगाना चुनाव उपराष्ट्रपति चुनाव बिहार चुनाव मनोरंजन बिग बॉस\n",
      "बॉलीवुड साउथ सिनेमा वीडियो टीवी वेब स्टोरी फिल्म रिव्यू धर्म राशिफल\n",
      "टैरो राशिफल लव राशिफल आर्थिक राशिफल करियर राशिफल मूलांक राशिफल विजुअल\n",
      "स्टोरी वीडियो पर्व-त्यौहार आरती संग्रह पूजा-पाठ लाइफस्टाइल वेब स्टोरी\n",
      "खेल एशिया कप महिला वर्ल्ड कप क्रिकेट न्यूज विजुअल स्टोरी वीडियो आगामी\n",
      "मैच वीडियो बिजनेस बजट 2025 रियल एस्टेट वेब स्टोरी स्टॉक अपडेट्स हॉट\n",
      "स्टॉक क्रिप्टो गोल्ड-सिल्वर रेट पेट्रोल-डीजल रेट CNG रेट इनकम टैक्स\n",
      "कैलकुलेटर कला-संस्कृति AI एंकर्स AI Sana अन्य AI एंकर्स विश्व जुर्म\n",
      "टेक्नोलॉजी वेब स्टोरीज वीडियो आर्टिफिशियल इंटेलिजेंस टिप्स-ट्रिक्स टेक\n",
      "डील्स रिव्यूज हालिया चुनाव दिल्ली चुनाव दिल्ली विजेता महाराष्ट्र चुनाव\n",
      "महाराष्ट्र विजेता झारखंड चुनाव झारखंड विजेता जम्मू-कश्मीर चुनाव J&K\n",
      "विजेता हरियाणा चुनाव हरियाणा विजेता लोकसभा चुनाव Explained सैर-सपाटा\n",
      "डिफेंस न्यूज कार्यक्रम एजुकेशन बोर्ड रिजल्ट सक्सेस स्टोरी एजुकेशन\n",
      "न्यूज जॉब्स एंड करियर नॉलेज पर्सनैलिटी डेवलपमेंट विजुअल स्टोरी साइंस\n",
      "न्यूज़ फुल कवरेज इन्टरैक्टिव ऑटो ट्रेंडिंग फैक्ट चेक क्विज़ हेल्थ कृषि\n",
      "समाचार लीगल न्यूज़ फोटो आपका पेज पेट्रोल-डीजल मौसम साहित्य एंकर्स\n",
      "अर्काइव गेम्स বাংলা रेट कार्ड निवेशक (Investor) X Edition IN US =\n",
      "NOTIFICATIONS 24th Aug Hindi English Breaking News नाइजीरिया की वायु\n",
      "सेना ने किया कैमरून बॉर्डर के पास 35 से अधिक जिहादियों को मारने का\n",
      "दावा आज तक का चैनल JOIN करें उत्तराखंड बादल फटना एस जयशंकर नेशनल स्पेस\n",
      "डे बिग बॉस 19 गणेश चतुर्थी डोनाल्ड ट्रंप सर्जियो गोर दिग्विजय सिंह\n",
      "पीएम मोदी रेखा गुप्ता शेयर बाजार संसद मानसून सत्र वलोडिमिर जेलेंस्की\n",
      "एशिया कप 2025 मौसम अपडेट राहुल गांधी व्लादिमीर पुतिन कौन बनेगा\n",
      "करोड़पति बिहार चुनाव 2025 ऑपरेशन महादेव मंडी भाव रूस Advertisement\n",
      "'मैंने अपने ही समुदाय की आलोचना झेली, लेकिन...' SC-ST में क्रीमी लेयर\n",
      "फैसले पर ऐसा क्यों बोले CJI गवई? सीजेआई बीआर गवई ने कहा कि आरक्षित\n",
      "वर्ग से पहली पीढ़ी IAS बनती है, फिर दूसरी और तीसरी पीढ़ी भी उसी कोटे\n",
      "का लाभ लेती है. उन्होंने सवाल किया कि क्या मुंबई या दिल्ली के\n",
      "सर्वश्रेष्ठ स्कूलों में पढ़ने... 1:43 'भारत से तेल खरीदने में जिन्हें\n",
      "परेशानी, वे न खरीदें...', जयशंकर की दो टूक, गिनाईं US संग रिश्तों की\n",
      "तीन मुख्य दिक्कतें 1:43 एक कार्यक्रम में बोलते हुए जयशंकर ने कहा कि\n",
      "भारत-अमेरिका रिश्तों में इस समय तीन बड़ी समस्याएं हैं- व्यापार... सबसे\n",
      "कम समय में सबसे ज्यादा खबरें... जयपुर: भारी बारिश के चलते आमेर किले की\n",
      "200 फीट लंबी दीवार गिरी और भी देवव्रत का नाम कैसे पड़ा भीष्म, क्या थी\n",
      "कठोर प्रतिज्ञा जिसके कारण मिला इच्छामृत्यु का वरदान 17:40 'पीट-पीटकर\n",
      "बेहोश किया, फिर जिंदा जलाया...', नोएडा की निक्की पर ससुरालवालों के\n",
      "अत्याचार की पूरी कहानी कभी माना गया T20 का धांसू फिनिशर... फिर अचानक\n",
      "आउट ऑफ फॉर्म, अब एशिया कप में एंट्री टीवी का मशहूर एक्टर पत्नी से ले\n",
      "रहा तलाक? तोड़ी चुप्पी, बोला- मैंने कहा था... अमेरिकी टैरिफ का जवाब\n",
      "'वोकल फॉर लोकल'! BJP-RSS देश में चलाएंगे स्वदेशी जागरण अभियान सूरत से\n",
      "किडनैपिंग, AC कोच के टॉयलेट में फेंका शव... मौसेरा भाई ही है पांच साल\n",
      "के बच्चे का कातिल? शनि अमावस्या 2025: बुरा वक्त शुरू होने का इशारा\n",
      "देते हैं शनि से जुड़े ये 6 संकेत ऑपरेशन सिंदूर में शामिल जवान से\n",
      "मारपीट केस में NHAI का एक्शन, Toll एजेंसी का कॉन्ट्रैक्ट रद्द 5:42\n",
      "पीएम-सीएम को हटाने वाले बिल को TMC ने बताया तमाशा, JPC का करेगी बॉयकॉट\n",
      "'दलितों-पिछड़ों के लिए सरकार ने सरकारी क्षेत्र के दरवाजे बंद किए',\n",
      "राहुल गांधी का केंद्र पर हमला कोहली धमाकेदार वापसी को तैयार... AUS\n",
      "दौरे से पहले लॉर्ड्स में शुरू की प्रैक्टिस 'बार-बार वोट डालने से थक\n",
      "जाते हैं लोग...', पीयूष गोयल ने वन नेशन-वन इलेक्शन पर दिया जोर\n",
      "Trending News: स्वतंत्र देव सिंह ऑनलाइन गेमिंग बिल लियोनेल मेसी पूजा\n",
      "पाल चीनी टर्मिनल बैन टिक टॉक ऐप सरिया रेट फॉल पटना सड़क हादसा सरकारी\n",
      "नौकरी Advertisement शॉर्ट वीडियो US जाने वाले डाक पार्सल पर अस्थायी\n",
      "रोक, भारत सरकार का फैसला 2014 से अब तक 12 मंत्री गए जेल, कोई भी BJP-\n",
      "NDA से नहीं हो गया कन्फर्म, 14 साल बाद भारत आएंगे लियोनेल मेसी ट्रेन\n",
      "के AC कोच के बाथरूम में मिला 5 साल की बच्ची का शव अब India में ही\n",
      "बनेगा 5वीं पीढ़ी के फाइटर जेट का इंजन, फ्रांस करेगा मदद बांदा के स्कूल\n",
      "में 50 से ज्यादा बच्चे हुए बीमार जल्द भारत आएंगे OpenAI CEO Sam\n",
      "Altman, दिल्ली में खुलेगा पहला ऑफिस 'रूसी तेल खरीद को लेकर China पर\n",
      "क्यों नहीं लगाया टैरिफ?' विदेश मंत्री की US को दो टूक Dharmasthala\n",
      "Case में झूठा निकला पूर्व सफाईकर्मा का दावा, पुलिस ने किया अरेस्ट Pak\n",
      "में फैक्ट्रियों से ज्यादा मस्जिद-मदरसे, सेंसस रिपोर्ट से खुली पोल\n",
      "बागपत में डॉक्टर का शव मिलने से फैली सनसनी बिहार: भ्रष्टाचार के आरोप\n",
      "में इंजीनियर गिरफ्तार Kolhapur में दो समुदायों में झड़प, कई गाड़ियों\n",
      "में लगाई आग बांदा में असलहा फैक्ट्री का ऐसे हुआ भंडाफोड़ नर्स ने उफनते\n",
      "नाले को कूदकर किया पार बड़ी ख़बरें J-K: अचानक खुला कार का दरवाजा, बाइक\n",
      "पर सवार युवा क्रिकेटर की हुई जोरदार टक्कर, हुई मौत बिग बॉस के मंच पर\n",
      "सलमान का धमाकेदार डांस, शो शुरू होने से पहले मचाया धमाल 'NDA सांसदों\n",
      "से भी मांगूंगा वोट...', बोले विपक्ष के VP उम्मीदवार, अमित शाह के\n",
      "आरोपों का भी दिया जवाब क्रिकेट बैट चोरी करने पहुंचा था नाबालिग लड़का,\n",
      "पकड़ा गया तो कर दी बच्ची की हत्या 0:36 ट्रंप के टैरिफ के बीच सरकार का\n",
      "बड़ा फैसला, अमेरिका जाने वाले डाक पार्सल पर अस्थायी रोक नौकरी के नाम\n",
      "पर ठगी, बैंक खातों का दुरुपयोग... साइबर फ्रॉड रैकेट का भंडाफोड़, सात\n",
      "लोग गिरफ्तार ‘मेरे पास मरने के सिवा कोई चारा नहीं…’, पूर्व मुख्यमंत्री\n",
      "तीरथ सिंह रावत के भांजे का वीडियो वायरल Advertisement लाइव अपडेट 6:11\n",
      "AM नाइजीरिया की वायु सेना ने किया कैमरून बॉर्डर के पास 35 से अधिक\n",
      "जिहादियों को मारने का दावा 5:37 AM श्रीलंका के पूर्व राष्ट्रपति रानिल\n",
      "विक्रमसिंघे की जेल में तबीयत बिगड़ी, अस्पताल में हुए भर्ती 4:33 AM\n",
      "गृहमंत्री अमित शाह आज दिल्ली असेंबली में ऑल इंडिया स्पीकर्स कॉन्फ्रेंस\n",
      "का करेंगे उद्घाटन 2:50 AM राजनाथ सिंह और मनोज सिन्हा किश्तवाड़ के बाढ़\n",
      "प्रभावित इलाकों का आज करेंगे दौरा 2:01 AM भारत 100 देशों को इलेक्ट्रिक\n",
      "वाहन निर्यात करने की उपलब्धि हासिल करने के लिए तैयार: PM मोदी 1:26 AM\n",
      "बलिया के सपा सांसद की मांग, मंगल पांडेय के नाम पर हो जिले का नाम 1:04\n",
      "AM दिल्ली सरकार ने समन, वारंट की ई-डिलीवरी के नियम अधिसूचित किए 12:19\n",
      "AM नॉर्थईस्ट यूनाइटेड ने डायमंड हार्बर पर शानदार जीत के साथ डूरंड कप\n",
      "का खिताब रखा बरकरार वीडियो 6:34 मुंबई के व्यापारी ने बेटिंग ऐप पर कैसे\n",
      "गंवाए 12 करोड़, जानें मामला 2:56 राहुल गांधी-तेजस्वी यादव ने जानी\n",
      "मखाना किसानों की समस्या, देखें चमोली के थराली में बादल फटा, देखेें\n",
      "भीषण तबाही का मंजर 14:45 1:10 अस्पताल में विधायक का औचक निरीक्षण,\n",
      "डॉक्टर से हुई तीखी नोंकझोंक, देखें 2:41 कोल्हापुर में दो गुटों में\n",
      "झड़प, उग्र भीड़ ने गाड़ियों को किया आग के हवाले और भी विजुअल स्टोरीज़\n",
      "टीवी का मशहूर एक्टर पत्नी से ले रहा तलाक? तोड़ी चुप्पी, बोला- मैंने\n",
      "कहा था... खतरनाक बीमारियों से दिल को बचाते हैं ये फूड्स, डाइट में जरूर\n",
      "करें शामिल शनि अमावस्या 2025: बुरा वक्त शुरू होने का इशारा देते हैं\n",
      "शनि से जुड़े ये 6 संकेत पिता करण जौहर से लॉन्च नहीं होना चाहते 'नेपो\n",
      "बेबी' यश, Video देख होंगे लोटपोट वेजिटेरियन लोगों के बेस्ट हैं आयरन से\n",
      "भरपूर ये चीजें, शरीर में तेजी  से बनता है खून 27 अगस्त से शुरू गणेश\n",
      "महोत्सव, जानें क्यों गणपति को नहीं चढ़ाई जाती तुलसी रोजाना भिगोकर खाएं\n",
      "कद्दू के बीज, इन समस्याओं से रहेंगे कोसों दूर दुनिया के किस देश ने\n",
      "जीता है मिस यूनिवर्स सबसे ज्यादा बार? टॉक्सिक था एक्ट्रेस का एक्स\n",
      "बॉयफ्रेंड, मर्दों संग काम करने से थी दिक्कत, बोलीं- उसे... घटाना है\n",
      "वजन और रहना है फिट? तो अपने दिन की शुरुआत करें इन 5 हर्बल चाय से\n",
      "मनोरंजन बिग बॉस के मंच पर सलमान का धमाकेदार डांस, शो शुरू होने से पहले\n",
      "मचाया धमाल चेहरे से लेकर आवाज तक पिता शाहरुख की कार्बन कॉपी हैं आर्यन,\n",
      "लेगेसी बढ़ाएंगे आगे नए तेवर के साथ लौट रहे सलमान खान, जानें कब और कहां\n",
      "देख सकेंगे Bigg Boss 'ऐसा इंसान किसी पर हाथ...', सुनीता संग तलाक पर\n",
      "गोविंदा के मैनेजर ने तोड़ी चुप्पी बिग बॉस 19 शुरू होने से पहले ही\n",
      "रिप्लेस हुई सोशल मीडिया इन्फ्लुएंसर, ये कश्मीरी एक्ट्रेस लेगी जगह और\n",
      "भी राज्यवार खबरें उत्तर प्रदेश बिहार दिल्ली उत्तराखंड मध्य प्रदेश\n",
      "राजस्थान बंगाल छत्तीसगढ़ झारखंड महाराष्ट्र इलाहाबाद हाईकोर्ट ने बिकरू\n",
      "हत्याकांड मामले में शिवम दुबे को जमानत देने से किया इनकार इलाहाबाद\n",
      "हाईकोर्ट ने बिकरू कांड के आरोपी शिवम दुबे उर्फ दलाल की जमानत याचिका\n",
      "खारिज कर दी है. कोर्ट में सरकार की ओर से बताया गया कि आरोपी ने हलफनामे\n",
      "में गलत जानकारी दी और अपनी आपराधिक... पूजा पाल पर सपा की कार्रवाई,\n",
      "लोकतंत्र या अनुशासन की लड़ाई? पूजा पाल पर सपा का एक्शन क्यों? देखें\n",
      "बहस विधायक पूजा पाल का अखिलेश पर बड़ा हमला, बोलीं- योगी की तारीफ पर\n",
      "निकाला गया गांव के तालाब में छिपा 6 फीट का मगरमच्छ, ग्रामीणों में\n",
      "दहशत, रेस्क्यू टीम बार-बार नाकाम! और भी Advertisement जुर्म भड़काऊ\n",
      "वीडियो, सनसनीखेज आरोप और पुलिस पूछताछ... धर्मस्थल केस में इस यूट्यूबर\n",
      "पर कसा शिकंजा नौकरी के नाम पर ठगी, बैंक खातों का दुरुपयोग... साइबर\n",
      "फ्रॉड रैकेट का भंडाफोड़, सात लोग गिरफ्तार सीबीआई-इंटरपोल का संयुक्त\n",
      "ऑपरेशन सफल, अजरबैजान से भारत लाया गया ये मोस्ट वांटेड अपराधी दिल्ली\n",
      "में गैंगवार की बड़ी साजिश नाकाम, नवीन बाली गैंग के तीन शूटर गिरफ्तार\n",
      "मसूरी वन प्रभाग से 7,375 बाउंड्री पिलर गायब, IFS अफसर के खिलाफ जांच की\n",
      "सिफारिश और भी खेल कोहली धमाकेदार वापसी को तैयार... AUS दौरे से पहले\n",
      "लॉर्ड्स में शुरू की प्रैक्टिस श्रेयस को बाहर करने पर भड़के\n",
      "मांजरेकर...आंकड़े शेयर कर सेलेक्टर्स को घेरा, VIDEO 'उम्मीद नहीं\n",
      "थी...', एशिया कप के लिए टीम में चुने जाने पर रिंकू ने तोड़ी चुप्पी\n",
      "फैन्स के लिए खुशखबरी... 14 साल बाद भारत आ रहे मेसी, केरल में खेलेंगे\n",
      "फ्रेंडली मैच पहले से ही फेयरवेल कराने लगे... विराट-रोहित के ODI\n",
      "रिटायरमेंट पर BCCI का बड़ा बयान और भी लाइफस्टाइल बच्चों की डाइट में\n",
      "जरूर होने चाहिए ये हेल्दी फूड्स, ऊंची रहेगी कद-काठी हेल्दी तरीके से\n",
      "घटाना है वजन तो अपनाएं ये ट्रिक्स, शरीर भी रहेगी तंदुरुस्त फ्लोरल\n",
      "कोर्सेट और ब्लैक स्कर्ट में छाईं सुहाना खान इस गणेश चतुर्थी ट्राई करें\n",
      "3 मजेदार चॉकलेट मोदक रेसिपी, स्वाद से भर जाएगा त्योहार शरीर में कमजोरी\n",
      "दूर करने के लिए रोज खाएं ये फल, हेल्दी डाइट संग करें सेवन और भी धर्म\n",
      "कब है गणेश चतुर्थी और क्या है गणपति स्थापना का मुहूर्त? नोट करें\n",
      "टाइमिंग साल की आखिरी शनि अमावस्या आज, साढ़ेसाती-ढैय्या के प्रभाव को इस\n",
      "पूजन विधि से करें बेअसर तुला राशि वालों की पद-प्रतिष्ठा में वृद्धि\n",
      "होगी, जानें क्या कहती है आपकी राशि कृष्ण भक्ति से मिलेगी शनि के संकटों\n",
      "से लड़ने की शक्ति, साढ़ेसाती-ढैय्या से होगा बचाव राशिफल आपके तारे-\n",
      "दैनिकः मेष परिवार में सुख बढ़ेगा. यात्रा से लाभ होगा. मन की चिंता दूर\n",
      "होगी. बातचीत में अहंकार ना दिखाएं. सेहत ठीक रहेगी. व्यापार में लाभ का\n",
      "योग है. आगे आपके तारे- दैनिकः वृषभ धन लाभ का योग है. रुके हुए काम पूरे\n",
      "करने का दिन है. प्रॉपर्टी खरीदने का योग है. आपका सम्मान और बढ़ेगा.\n",
      "दुश्मन शांत रहेंगे. व्यापार में स्थिति अनुकूल रहेगी. आगे आपके तारे-\n",
      "दैनिकः मिथुन आपके खर्चे बढ़ेंगे. रोग परेशान कर सकते हैं. लोगों से\n",
      "उलझने से बचें. भावनाओं में बहकर कोई भी काम करने से बचें. धन से जुड़े\n",
      "मामले में धोखा मिल सकता है सावधान रहें. आगे आपके तारे- दैनिकः कर्क\n",
      "भाग्य का सपोर्ट मिलेगा. मित्रों की मदद से काम बनेंगे. परिवार में सुख\n",
      "बढ़ेगा. कोई बड़ा निर्णय ले सकते हैं. लंबी दूरी की यात्रा ना करें.\n",
      "व्यापार में लाभ होगा. आगे आपके तारे- दैनिकः सिंह प्रॉपर्टी से संबंधित\n",
      "लाभ होगा. परिवार के साथ वक्त बीतेगा.धैर्य रखने का समय है. आवेश में आकर\n",
      "कोई बात कहने से बचें. प्रेम संबंधों में गहराई और बढ़ेगी. व्यापार में\n",
      "स्थिति बेहतर होगी. आगे आपके तारे- दैनिकः कन्या मन आपका उत्साहित रहेगा.\n",
      "धन कमाने के लिए योजना बनानी होगी. शत्रु शांत रहेंगे. अपने व्यवहार में\n",
      "विनम्रता रखें. परिवार वालों की सलाह से काम करें. कारोबार से जुड़ी कोई\n",
      "यात्रा ना करें. आगे आपके तारे- दैनिकः तुला परिवार से जुड़े मसले हल\n",
      "होंगे. किसी महत्वपूर्ण व्यक्ति से मुलाकात होगी. प्रियजनों के साथ कुछ\n",
      "अनबन हो सकती है. किसी काम में ज्यादा उतावलापन ना दिखाएं. किसी को पैसा\n",
      "उधार ना दें. आगे आपके तारे- दैनिकः वृश्चिक नई योजना तैयार करने का समय\n",
      "है. उन्नति के रास्ते बनेंगे. अपने ज्ञान और हुनर को बढ़ाने का समय है.\n",
      "जल्दबाजी में कोई निवेश ना करें. रिश्तेदारों के सहयोग से बिजनेस ना\n",
      "करें. आगे आपके तारे- दैनिकः धनु किसी से मतभेद हो सकता है. आज सावधान\n",
      "रहने का दिन है. पैसा उधार लेकर कोई काम ना करें. यात्रा से बचना होगा.\n",
      "दाम्पत्य जीवन में मतभेद ना बढ़ने दें. आगे आपके तारे- दैनिकः मकर मन में\n",
      "बेचैनी रहेगी. परिवार वालों से सहयोग मिलेगा. जो काम आप कर रहे हैं उसे\n",
      "पूरा करें. कोई मित्र धोखा दे सकता है सावधान रहें. व्यापार में लाभ की\n",
      "स्थिति बनेगी. आगे आपके तारे- दैनिकः कुंभ कहीं दूर से अच्छी खबर मिलेगी.\n",
      "आज को बड़ा सौदा करने से बचें. अपनी बात पर अड़े ना रहें. लोगों के सुझाव\n",
      "मानने से लाभ होगा. व्यापार में नुकसान हो सकता है. आगे आपके तारे-\n",
      "दैनिकः मीन भाग्य का सपोर्ट मिलेगा. अपने समय का पूरा उपयोग करें. जीवन\n",
      "में सुख, सुविधाएं बढ़ेंगी. आपके खर्चों में बढ़ोतरी होगी. शत्रुओं को\n",
      "लेकर लापरवाह ना हों, व्यापार में लाभ का योग है. आगे और भी टेक्नोलॉजी\n",
      "पीएम मोदी के मजाक के पीछे था बड़ा मैसेज! ऑनलाइन गेमिंग कानून से पूरी\n",
      "पिक्चर साफ जल्द भारत आएंगे OpenAI CEO Sam Altman, दिल्ली में खुलेगा\n",
      "पहला ऑफिस Redmi Note 15 Pro सीरीज लॉन्च, मिलती है 7000mAh की बैटरी\n",
      "'दूसरी पारी में मिलेंगे...', Dream 11 का भावुक संदेश, अब जीतने पर पैसे\n",
      "नहीं I-Phone मिलेगा! TikTok, AliExpress की वेबसाइट्स भारत में 5 साल\n",
      "बाद अनब्लॉक, चीनी कंपनियों से हटा बैन? और भी एजुकेशन गली-गली में खुल\n",
      "रहे EV चार्जिंग स्टेशन... जानें क्या है इनकी कमाई का सिस्टम पाकिस्तान\n",
      "की वो जगह, जहां की महिलाएं मानी जाती हैं सबसे खूबसूरत कितना कमाते हैं\n",
      "Myntra, Amazon का पार्सल पहुंचाने वाले डिलिवरी बॉय? एक पैकेट पर इतने\n",
      "पैसे सरकारी नौकरी: रेलवे में 2,865 अपरेंटिस पदों पर निकली वैकेंसी,\n",
      "10वीं पास करें आवेदन परीक्षा में नंबर और रैंक की दौड़ में छात्रों का\n",
      "मेंटल हेल्थ हो रहा खराब, उम्मीदों से टूट रहे बच्चे और भी Advertisement\n",
      "बिजनेस ट्रंप के टैरिफ के बीच सरकार का बड़ा फैसला, अमेरिका जाने वाले\n",
      "डाक पार्सल पर अस्थायी रोक अनिल अंबानी के घर समेत अन्य ठिकानों पर रेड,\n",
      "बैंक लोन फ्रॉड मामले में CBI का एक्शन 'मोदी से पहले हाथ मिलाओ, फिर\n",
      "वार...' टैरिफ पर ट्रंप को अमेरिकी इकोनॉमिस्‍ट ने घेरा, चीन पर भी\n",
      "चेताया दि‍ल्‍ली से जयपुर तक... अचानक गिरा सरिया का भाव, इतना हुआ\n",
      "सस्‍ता ईरानी तेल पर US की सख्ती... चीन के दो ऑयल टर्मिनल और ग्रीक\n",
      "शिपिंग नेटवर्क पर लगाया बैन और भी विश्व रूस ने यूक्रेन के डोनेट्स्क\n",
      "में दो गांवों पर किया कब्जा, 143 ठिकानों पर बरसाए बम गाजा में इजरायल\n",
      "का 'फाइनल घमासान', क्या हमास का होगा खात्मा? यूक्रेन का रूसी तेल\n",
      "इंफ्रास्ट्रक्चर पर हमला, पाइपलाइन पर किया अटैक उत्तर कोरियाई सैनिकों\n",
      "के शव देख रो पड़े किम जोंग उन, देखें इजरायल का गाजा पर अंतिम वार, हमास\n",
      "को चेतावनी और भी साइंस न्यूज़ गगनयान, स्पेस स्टेशन और नई ऊंचाइयां... PM\n",
      "मोदी ने अंतरिक्ष दिवस पर बताया भारत का विजन PSLV से गगनयान तक... वो पल\n",
      "जब दुनिया को भारत ने दिखाया अंतरिक्ष में दम ISRO ने दिखाया भारतीय\n",
      "अंतरिक्ष स्टेशन का मॉडल: 2028 में पहला मॉड्यूल, 2035 तक बनेगा पूरा\n",
      "स्टेशन क्या गायब हो जाएगा कैस्पियन सागर? पांच साल में तीन फीट नीचे गया\n",
      "पानी... 5 देशों के लिए खतरा कैसे फटता है बादल... चीन के शांसी प्रांत\n",
      "के शीआन में दिखा Live, भयानक बाढ़ आई और भी ऑटो सिर्फ़ छोटी कारें\n",
      "नहीं... ये गाड़ियां भी होंगी सस्ती! कम खर्च में पूरा होगा बड़ी SUV का\n",
      "सपना हादसा या तकनीकी खराबी? Harrier EV की चपेट में आकर शख्स की मौत!\n",
      "वीडियो से उठे सवाल सावधान: इतने दिन में नहीं भरा ट्रैफिक चालान तो\n",
      "लगेगी मोटी पेनाल्टी, जानें नया नियम तगड़ी कमाई... मोटी बचत! TVS ने\n",
      "लॉन्च की इलेक्ट्रिक कार्गो थ्री-व्हीलर, कीमत 3.85 लाख इंजीनियरिंग\n",
      "स्टूडेंट्स का कमाल! कबाड़ से बनाई ड्राइवरलेस इलेक्ट्रिक बाइक, डिज़ाइन\n",
      "देख कहेंगे वाह...! और भी Advertisement हेल्थ आपके शरीर में पाई जाने\n",
      "वाली ये चीज है खतरनाक, डायबिटीज के मरीज हो जाएं सर्तक India में पहले\n",
      "से क्यों नहीं दी जाती Rabies की Vaccine? महिलाओं से ज्यादा खतरे में\n",
      "पुरुष! उनके लिए ‘साइलेंट किलर’ साबित हो रहीं ये बीमारियां और भी विचार\n",
      "एवं विश्लेषण PM-CM की कुर्सी छीनने वाला बिल पास हो न हो, बिहार में\n",
      "'भ्रष्टाचार' चुनावी मुद्दा तो बन गया क्या राहुल गांधी बिहार के चुनावी\n",
      "मुद्दों को हाईजैक कर रहे हैं, और क्या तेजस्वी ऐसा होने दे रहे हैं?\n",
      "राहुल-तेजस्वी के साथ अखिलेश का वोटर अधिकार यात्रा में शामिल होना नीतीश\n",
      "की कितनी चुनौती बढ़ाएगा? और भी डिफेंस न्यूज केंद्र ने भारत में बनने\n",
      "वाली 6 पनडुब्बियों के सौदे पर बातचीत को दी हरी झंडी, जर्मन तकनीक से\n",
      "होगा निर्माण 0:42 अब India में ही बनेगा 5वीं पीढ़ी के फाइटर जेट का\n",
      "इंजन, फ्रांस करेगा मदद और भी साहित्य कहानी| शायरी की बीमारी |\n",
      "स्टोरीबॉक्स विद जमशेद जब हिंदी के गौरवगान में बदल गया कविता संग्रह\n",
      "'मैं बूँद स्वयं, खुद सागर हूँ' का लोकार्पण समारोह मुखर्जी बाबू की\n",
      "डायरी | स्टोरीबॉक्स विद जमशेद क़मर सिद्दीक़ी और भी आपका वोट क्या\n",
      "सु्प्रीम कोर्ट के आवारा कुत्तों पर दिए नए फैसले से समस्या सुलझ जाएगी?\n",
      "हां नहीं 3704 Votes आजतक रेडियो शाम 4 बजे का न्यूज़ पॉडकास्ट- 5 मिनट\n",
      "Dog-Human Bond की बेहतरीन मिसाल Jim Corbett और Robin के रिश्ते की\n",
      "कहानी | Sher Khan, S2E2 Podcast दोपहर 1 बजे का न्यूज़ पॉडकास्ट - 5\n",
      "मिनट और भी বাংলা Money Bag Purse Vastu Tips: পার্সে এভাবে টাকা রাখলে\n",
      "লক্ষ্মীর কৃপা থাকে, টাকার অভাব হয় না Baruipur Murder: বারুইপুরে BJP\n",
      "নেতা খুনের CCTV ফুটেজ! কাঠগড়ায় TMC কর্মী বাবা, ভাই আরও জানুন\n",
      "Advertisement GNT TV Intermittent Fasting: इंटरमिटेंट फास्टिंग से वजन\n",
      "घटाना पड़ सकता भारी, कम खाने से हो सकती बड़ी बीमारी भ्रामक विज्ञापन\n",
      "फैलाने के चलते वीएलसीसी पर लगा मोटा फाइन, फैट लॉस को लेकर लोगों को\n",
      "किया गुमराह और भी Explained क्या पश्चिमी मान्यता पाने से फिलिस्तीन को\n",
      "मिल जाएगा देश का दर्जा? ड्रीम अमेरिका के रास्ते का रोड़ा बन सकता है\n",
      "एंटी-अमेरिकनिज्म, क्या है ये? क्या अमेरिका-कनाडा जैसे देशों में शेल्टर\n",
      "की कमी स्ट्रे डॉग्स की जान ले रही है? और भी India Today India\n",
      "developed 5G domestically, working on made-in-India 6G: PM Modi UP\n",
      "woman killed over dowry; video shows her being dragged, beaten up, set\n",
      "ablaze और भी Advertisement Advertisement Advertisement About us\n",
      "Contact us Advertise with us Complaint Redressal Investors Rate Card\n",
      "Privacy Policy Terms and Conditions Correction Policy Press Releases\n",
      "T&Cs for AajTak HD Contest Education: Vasant Valley India Today\n",
      "Education ITMI Campus National Aptitude test Gaming: India Today\n",
      "Gaming World Esports Cup Esports Premier League Online Shopping: India\n",
      "Today Diaries Printing: Thomson Press Subscription: Cosmopolitan\n",
      "Reader's Digest Music Today Time Gadgets & Gizmos Events: Sahitya Aaj\n",
      "Tak Agenda Aajtak India Today Conclave India Today Woman's Summit\n",
      "India Today Youth Summit State Of The States Conclave India Today\n",
      "Education Summit Welfare: Care Today Syndication: India Content\n",
      "Headline Today India Today Dailyo Ichowk Archive Download App follow\n",
      "us on Copyright © 2025 Living Media India Limited. For reprint rights:\n",
      "Syndications Today Advertisement होम वीडियो लाइव टीवी न्यूज़ रील\n",
      "मेन्यू मेन्यू\n"
     ]
    }
   ],
   "source": [
    "import textwrap\n",
    "print(textwrap.fill(text))"
   ]
  },
  {
   "cell_type": "code",
   "execution_count": 13,
   "id": "e2c01d78",
   "metadata": {},
   "outputs": [],
   "source": [
    "tool_search=Tool(\n",
    "    name='search',\n",
    "    func=serper.run,\n",
    "    description=\"usefum when you need information form web search\"\n",
    ")"
   ]
  },
  {
   "cell_type": "code",
   "execution_count": 14,
   "id": "7d96094e",
   "metadata": {},
   "outputs": [],
   "source": [
    "all_tools=[tool_search,tool_push]+tools"
   ]
  },
  {
   "cell_type": "code",
   "execution_count": 15,
   "id": "d489c87f",
   "metadata": {},
   "outputs": [],
   "source": [
    "model=ChatOpenAI(model='gpt-4o-mini')\n",
    "model_with_tools=model.bind_tools(all_tools)"
   ]
  },
  {
   "cell_type": "code",
   "execution_count": 16,
   "id": "e0722a99",
   "metadata": {},
   "outputs": [],
   "source": [
    "#define chatbot node\n",
    "def chatbot(State):\n",
    "    return {\"messages\":model_with_tools.invoke(State['messages'])}"
   ]
  },
  {
   "cell_type": "code",
   "execution_count": 17,
   "id": "47f29132",
   "metadata": {},
   "outputs": [],
   "source": [
    "#define memory\n",
    "db_path=\"memory.db\" \n",
    "conn=sqlite3.connect(db_path,check_same_thread=False)\n",
    "sql_memory=SqliteSaver(conn)"
   ]
  },
  {
   "cell_type": "code",
   "execution_count": 18,
   "id": "6a35d055",
   "metadata": {},
   "outputs": [
    {
     "data": {
      "image/png": "[encoded data removed]",
      "text/plain": [
       "<IPython.core.display.Image object>"
      ]
     },
     "metadata": {},
     "output_type": "display_data"
    }
   ],
   "source": [
    "from IPython.display import display,Image\n",
    "#buid graph\n",
    "graph=StateGraph(State)\n",
    "\n",
    "#add node\n",
    "graph.add_node('chatbot',chatbot)\n",
    "graph.add_node('tools',ToolNode(tools=tools))\n",
    "\n",
    "#create edges\n",
    "graph.add_edge(START,'chatbot')\n",
    "graph.add_edge('tools','chatbot')\n",
    "graph.add_conditional_edges( \"chatbot\", tools_condition, \"tools\")\n",
    "\n",
    "#compile_graph\n",
    "workflow=graph.compile(checkpointer=sql_memory)\n",
    "\n",
    "#display the graph\n",
    "display(Image(workflow.get_graph().draw_mermaid_png()))\n",
    "\n",
    "\n"
   ]
  },
  {
   "cell_type": "code",
   "execution_count": 19,
   "id": "55101678",
   "metadata": {},
   "outputs": [],
   "source": [
    "config = {\"configurable\": {\"thread_id\": \"1\"}}"
   ]
  },
  {
   "cell_type": "code",
   "execution_count": 20,
   "id": "b8bd4688",
   "metadata": {},
   "outputs": [
    {
     "name": "stdout",
     "output_type": "stream",
     "text": [
      "* Running on local URL:  http://127.0.0.1:7860\n",
      "* To create a public link, set `share=True` in `launch()`.\n"
     ]
    },
    {
     "data": {
      "text/html": [
       "<div><iframe src=\"http://127.0.0.1:7860/\" width=\"100%\" height=\"500\" allow=\"autoplay; camera; microphone; clipboard-read; clipboard-write;\" frameborder=\"0\" allowfullscreen></iframe></div>"
      ],
      "text/plain": [
       "<IPython.core.display.HTML object>"
      ]
     },
     "metadata": {},
     "output_type": "display_data"
    },
    {
     "data": {
      "text/plain": []
     },
     "execution_count": 20,
     "metadata": {},
     "output_type": "execute_result"
    }
   ],
   "source": [
    "def chat(user_input: str, history):\n",
    "    result = workflow.invoke({\"messages\": [{\"role\": \"user\", \"content\": user_input}]}, config=config)\n",
    "    return result[\"messages\"][-1].content\n",
    "    \n",
    "gr.ChatInterface(chat, type=\"messages\").launch()"
   ]
  },
  {
   "cell_type": "code",
   "execution_count": null,
   "id": "e1dc560b",
   "metadata": {},
   "outputs": [],
   "source": []
  }
 ],
 "metadata": {
  "kernelspec": {
   "display_name": ".venv",
   "language": "python",
   "name": "python3"
  },
  "language_info": {
   "codemirror_mode": {
    "name": "ipython",
    "version": 3
   },
   "file_extension": ".py",
   "mimetype": "text/x-python",
   "name": "python",
   "nbconvert_exporter": "python",
   "pygments_lexer": "ipython3",
   "version": "3.11.5"
  }
 },
 "nbformat": 4,
 "nbformat_minor": 5
}
