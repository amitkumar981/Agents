{
 "cells": [
  {
   "cell_type": "code",
   "execution_count": 1,
   "id": "bc4c65d8",
   "metadata": {},
   "outputs": [],
   "source": [
    "from dataclasses import dataclass\n",
    "from autogen_core import AgentId, MessageContext, RoutedAgent, message_handler\n",
    "from autogen_agentchat.agents import AssistantAgent\n",
    "from autogen_agentchat.messages import TextMessage\n",
    "from autogen_ext.models.openai import OpenAIChatCompletionClient\n",
    "from autogen_ext.tools.langchain import LangChainToolAdapter\n",
    "from langchain_community.utilities import GoogleSerperAPIWrapper\n",
    "from autogen_core import SingleThreadedAgentRuntime\n",
    "from langchain.agents import Tool\n",
    "from IPython.display import display, Markdown\n",
    "\n",
    "from dotenv import load_dotenv"
   ]
  },
  {
   "cell_type": "code",
   "execution_count": 2,
   "id": "97dd58f8",
   "metadata": {},
   "outputs": [
    {
     "data": {
      "text/plain": [
       "True"
      ]
     },
     "execution_count": 2,
     "metadata": {},
     "output_type": "execute_result"
    }
   ],
   "source": [
    "#load credentials\n",
    "load_dotenv(override=True)"
   ]
  },
  {
   "cell_type": "code",
   "execution_count": 3,
   "id": "4ba97acf",
   "metadata": {},
   "outputs": [],
   "source": [
    "@dataclass\n",
    "class Message:\n",
    "    content:str"
   ]
  },
  {
   "cell_type": "markdown",
   "id": "5eaf02e1",
   "metadata": {},
   "source": [
    "### Introduce Tool"
   ]
  },
  {
   "cell_type": "code",
   "execution_count": 4,
   "id": "156d30d1",
   "metadata": {},
   "outputs": [],
   "source": [
    "serper=GoogleSerperAPIWrapper()\n",
    "lanchain_tool=Tool(name=\"search_tool\",func=serper.run,description=\"use tool when web search is needed\")\n",
    "autogen_tool=LangChainToolAdapter(lanchain_tool)"
   ]
  },
  {
   "cell_type": "code",
   "execution_count": 5,
   "id": "67b79147",
   "metadata": {},
   "outputs": [],
   "source": [
    "instruction1 = \"To help with a decision on whether to use AutoGen in a new AI Agent project, \\\n",
    "please research and briefly respond with reasons in favor of choosing AutoGen; the pros of AutoGen.\"\n",
    "\n",
    "instruction2 = \"To help with a decision on whether to use AutoGen in a new AI Agent project, \\\n",
    "please research and briefly respond with reasons against choosing AutoGen; the cons of Autogen.\"\n",
    "\n",
    "judge = \"You must make a decision on whether to use AutoGen for a project. \\\n",
    "Your research team has come up with the following reasons for and against. \\\n",
    "Based purely on the research from your team, please respond with your decision and brief rationale.\""
   ]
  },
  {
   "cell_type": "markdown",
   "id": "dca67c6f",
   "metadata": {},
   "source": [
    "### Build Agents"
   ]
  },
  {
   "cell_type": "code",
   "execution_count": null,
   "id": "034e536a",
   "metadata": {},
   "outputs": [],
   "source": [
    "class Agent_1(RoutedAgent):\n",
    "    def __init__(self, name: str) -> None:\n",
    "        super().__init__(name)\n",
    "        model_client = OpenAIChatCompletionClient(model='gpt-4o-mini')\n",
    "        self._delegate = AssistantAgent(\n",
    "            name,\n",
    "            model_client=model_client,\n",
    "            tools=[autogen_tool],\n",
    "            reflect_on_tool_use=True\n",
    "        )\n",
    "    \n",
    "    @message_handler\n",
    "    async def handle_message_type(self, message: Message, ctx: MessageContext) -> Message:\n",
    "        text_message = TextMessage(content=message.content, source=\"user\")\n",
    "        response = await self._delegate.on_messages([text_message], ctx.cancellation_token)\n",
    "        return Message(content=response.chat_message.content)\n",
    "\n",
    "\n",
    "class Agent_2(RoutedAgent):\n",
    "    def __init__(self, name: str) -> None:\n",
    "        super().__init__(name)\n",
    "        model_client = OpenAIChatCompletionClient(model='gpt-4o-mini')\n",
    "        self._delegate = AssistantAgent(\n",
    "            name,\n",
    "            model_client=model_client,\n",
    "            tools=[autogen_tool],\n",
    "            reflect_on_tool_use=True\n",
    "        )\n",
    "    \n",
    "    @message_handler\n",
    "    async def handle_message_type(self, message: Message, ctx: MessageContext) -> Message:\n",
    "        text_message = TextMessage(content=message.content, source=\"user\")\n",
    "        response = await self._delegate.on_messages([text_message], ctx.cancellation_token)\n",
    "        return Message(content=response.chat_message.content)\n",
    "\n",
    "\n",
    "class Evaluator(RoutedAgent):\n",
    "    def __init__(self, name: str):\n",
    "        super().__init__(name)\n",
    "        model_client = OpenAIChatCompletionClient(model='gpt-4o-mini')\n",
    "        self._delegate = AssistantAgent(name, model_client=model_client)\n",
    "    \n",
    "    @message_handler\n",
    "    async def handle_message_type(self, message: Message, ctx: MessageContext) -> Message:\n",
    "        # These must be defined elsewhere or passed in\n",
    "        message_1 = Message(content=instruction1)\n",
    "        message_2 = Message(content=instruction2)\n",
    "\n",
    "        inner_1 = AgentId(\"Agent_1\", \"default\")\n",
    "        inner_2 = AgentId(\"Agent_2\", \"default\")\n",
    "\n",
    "        response1 = await self.send_message(message_1, inner_1)\n",
    "        response2 = await self.send_message(message_2, inner_2)\n",
    "\n",
    "        result = f\"## pros of autogen:\\n{response1.content} \\n\\n## cons of autogen:\\n{response2.content}\"\n",
    "        decision_prompt = f\"{judge}\\n{result}\\nRespond with your decision and a brief explanation.\"\n",
    "\n",
    "        decision_message = TextMessage(content=decision_prompt, source=\"user\")\n",
    "        response = await self._delegate.on_messages([decision_message], ctx.cancellation_token)\n",
    "\n",
    "        final_output = result + \"\\n\\n## Decision:\\n\\n\" + response.chat_message.content\n",
    "        return Message(content=final_output)"
   ]
  },
  {
   "cell_type": "code",
   "execution_count": 7,
   "id": "c7a4bdf2",
   "metadata": {},
   "outputs": [],
   "source": [
    "runtime=SingleThreadedAgentRuntime()\n",
    "await Agent_1.register(runtime,\"Agent_1\",lambda: Agent_1(\"Agent_1\"))\n",
    "await Agent_2.register(runtime,\"Agent_2\",lambda: Agent_2(\"Agent_2\"))\n",
    "await Evaluator.register(runtime,\"evaluator\",lambda: Evaluator(\"evaluator\"))\n",
    "runtime.start()"
   ]
  },
  {
   "cell_type": "code",
   "execution_count": 8,
   "id": "7e6fd903",
   "metadata": {},
   "outputs": [
    {
     "data": {
      "text/markdown": [
       "## pros of autogen:\n",
       "Here are some reasons in favor of choosing AutoGen for your AI Agent project:\n",
       "\n",
       "1. **Ease of Use**: AutoGen comes with built-in agents that can be directly utilized, streamlining the development process. The associated observability and debugging tools further simplify monitoring and controlling agent workflows.\n",
       "\n",
       "2. **Scalability**: The modular and extensible nature of the framework allows for the creation of scalable and customizable systems, making it suitable for projects of various sizes and complexities.\n",
       "\n",
       "3. **Multi-Agent System Support**: It excels at facilitating the creation of multi-agent systems, enabling AI assistants to collaborate and improve efficiency in completing tasks.\n",
       "\n",
       "4. **Dynamic Environment Compatibility**: AutoGen is well-suited for complex automation in dynamic environments, enhancing its usefulness in varied applications.\n",
       "\n",
       "5. **Human-in-the-Loop Workflows**: The framework supports human-in-the-loop methodologies, ensuring that human oversight can be integrated into AI processes, which can enhance reliability and user trust.\n",
       "\n",
       "6. **Reduced Coordination Complexity**: By utilizing natural-language handoffs, AutoGen eliminates the need for custom inter-agent protocols, reducing coordination complexity among agents.\n",
       "\n",
       "These advantages make AutoGen a compelling choice for developing AI agents, especially in projects that require flexibility, collaboration, and ease of integration. \n",
       "\n",
       "TERMINATE \n",
       "\n",
       "## cons of autogen:\n",
       "Here are some cons of using AutoGen for an AI Agent project:\n",
       "\n",
       "1. **Steep Learning Curve**: Users often report that AutoGen has a challenging learning curve. Its complex features and graph-based approach require a significant amount of time and effort to master.\n",
       "\n",
       "2. **Limited Documentation**: The documentation for AutoGen has been criticized for being hard to read and lacking sufficient examples, which can hinder new users from effectively utilizing its capabilities.\n",
       "\n",
       "3. **Technical Issues**: Some users have faced glitches and functionality problems with the interface. This can disrupt the user experience and lead to inefficiencies during development.\n",
       "\n",
       "4. **Customization Needs**: Deploying AutoGen typically requires significant customization, which may increase the time and resources needed to implement the solution compared to other frameworks that offer easier out-of-the-box setups.\n",
       "\n",
       "5. **Hosting and Infrastructure Management**: AutoGen may necessitate additional oversight regarding hosting and infrastructure management, which can add to the complexity and cost of deployment.\n",
       "\n",
       "6. **Limited Creativity**: While AutoGen is good at generating content based on predefined inputs, it may be less flexible in terms of creativity and adaptability compared to other AI solutions.\n",
       "\n",
       "These points should be considered when deciding whether AutoGen is right for your project. \n",
       "\n",
       "TERMINATE\n",
       "\n",
       "## Decision:\n",
       "\n",
       "Based on the research presented, I recommend using AutoGen for the project. The advantages of ease of use, scalability, support for multi-agent systems, and compatibility with dynamic environments significantly outweigh the drawbacks. While the steep learning curve and limited documentation could pose challenges, the potential for collaboration and reduced coordination complexity makes it a compelling choice for developing AI agents. The ability to integrate human oversight is also critical for ensuring reliability and user trust. Overall, AutoGen's strengths align well with the project's requirements.\n",
       "\n",
       "TERMINATE"
      ],
      "text/plain": [
       "<IPython.core.display.Markdown object>"
      ]
     },
     "metadata": {},
     "output_type": "display_data"
    }
   ],
   "source": [
    "agent_id=AgentId(\"evaluator\",\"default\")\n",
    "message = Message(content=\"go\")\n",
    "response = await runtime.send_message(message, agent_id)\n",
    "display(Markdown(response.content))"
   ]
  },
  {
   "cell_type": "code",
   "execution_count": 9,
   "id": "67efe565",
   "metadata": {},
   "outputs": [],
   "source": [
    "await runtime.stop()\n",
    "await runtime.close()"
   ]
  },
  {
   "cell_type": "code",
   "execution_count": null,
   "id": "9ea0f341",
   "metadata": {},
   "outputs": [],
   "source": []
  }
 ],
 "metadata": {
  "kernelspec": {
   "display_name": ".venv",
   "language": "python",
   "name": "python3"
  },
  "language_info": {
   "codemirror_mode": {
    "name": "ipython",
    "version": 3
   },
   "file_extension": ".py",
   "mimetype": "text/x-python",
   "name": "python",
   "nbconvert_exporter": "python",
   "pygments_lexer": "ipython3",
   "version": "3.11.5"
  }
 },
 "nbformat": 4,
 "nbformat_minor": 5
}
