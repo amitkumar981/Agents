{
 "cells": [
  {
   "cell_type": "code",
   "execution_count": 1,
   "id": "a9bc8a7e",
   "metadata": {},
   "outputs": [],
   "source": [
    "#import libraries\n",
    "from autogen_ext.models.openai import OpenAIChatCompletionClient\n",
    "from dotenv import load_dotenv"
   ]
  },
  {
   "cell_type": "code",
   "execution_count": 2,
   "id": "99eb0fde",
   "metadata": {},
   "outputs": [
    {
     "data": {
      "text/plain": [
       "True"
      ]
     },
     "execution_count": 2,
     "metadata": {},
     "output_type": "execute_result"
    }
   ],
   "source": [
    "#load credentials\n",
    "load_dotenv(override=True)"
   ]
  },
  {
   "cell_type": "code",
   "execution_count": 3,
   "id": "d34c818c",
   "metadata": {},
   "outputs": [],
   "source": [
    "model_client=OpenAIChatCompletionClient(model=\"gpt-4o-mini\")\n"
   ]
  },
  {
   "cell_type": "code",
   "execution_count": null,
   "id": "469128ec",
   "metadata": {},
   "outputs": [],
   "source": []
  },
  {
   "cell_type": "markdown",
   "id": "6000885c",
   "metadata": {},
   "source": [
    "from autogen_agentchat.messages import TextMessage\n",
    "message=TextMessage(content=\"I'd looking to Bangluru from Delhi\",source=\"user\")\n"
   ]
  },
  {
   "cell_type": "code",
   "execution_count": 8,
   "id": "4091a0be",
   "metadata": {},
   "outputs": [],
   "source": [
    "from autogen_agentchat.messages import TextMessage\n",
    "message=TextMessage(content=\"I'd looking to Bangluru from Delhi\",source=\"user\")"
   ]
  },
  {
   "cell_type": "code",
   "execution_count": 9,
   "id": "a5720271",
   "metadata": {},
   "outputs": [],
   "source": [
    "from autogen_agentchat.agents import AssistantAgent\n",
    "agent=AssistantAgent(\n",
    "name=\"airline_agent\",\n",
    "model_client=model_client,\n",
    "system_message=\"you are helpful assistant of airline. give a short and pricise awswer\",\n",
    "model_client_stream=True\n",
    ")"
   ]
  },
  {
   "cell_type": "code",
   "execution_count": 12,
   "id": "11a582a3",
   "metadata": {},
   "outputs": [
    {
     "data": {
      "text/plain": [
       "'You can fly from Delhi to Bengaluru. Multiple airlines operate this route, and the flight duration is about 2.5 to 3 hours. Please check online for flight availability and prices.'"
      ]
     },
     "execution_count": 12,
     "metadata": {},
     "output_type": "execute_result"
    }
   ],
   "source": [
    "\n",
    "from autogen_core import CancellationToken\n",
    "\n",
    "response=await agent.on_messages([message],cancellation_token=CancellationToken())\n",
    "response.chat_message.content\n"
   ]
  },
  {
   "cell_type": "code",
   "execution_count": null,
   "id": "3efdff35",
   "metadata": {},
   "outputs": [],
   "source": []
  }
 ],
 "metadata": {
  "kernelspec": {
   "display_name": ".venv",
   "language": "python",
   "name": "python3"
  },
  "language_info": {
   "codemirror_mode": {
    "name": "ipython",
    "version": 3
   },
   "file_extension": ".py",
   "mimetype": "text/x-python",
   "name": "python",
   "nbconvert_exporter": "python",
   "pygments_lexer": "ipython3",
   "version": "3.11.5"
  }
 },
 "nbformat": 4,
 "nbformat_minor": 5
}
